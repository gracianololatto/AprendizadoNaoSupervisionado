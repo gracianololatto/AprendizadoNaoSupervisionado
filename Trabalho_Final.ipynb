{
 "cells": [
  {
   "cell_type": "markdown",
   "metadata": {},
   "source": [
    "# Pacotes"
   ]
  },
  {
   "cell_type": "code",
   "execution_count": 1,
   "metadata": {},
   "outputs": [],
   "source": [
    "import numpy as np\n",
    "import os"
   ]
  },
  {
   "cell_type": "code",
   "execution_count": 2,
   "metadata": {},
   "outputs": [],
   "source": [
    "from sklearn.metrics import accuracy_score\n",
    "from sklearn.model_selection import train_test_split"
   ]
  },
  {
   "cell_type": "code",
   "execution_count": 3,
   "metadata": {},
   "outputs": [],
   "source": [
    "import cv2"
   ]
  },
  {
   "cell_type": "markdown",
   "metadata": {},
   "source": [
    "# Macros de importação"
   ]
  },
  {
   "cell_type": "code",
   "execution_count": 4,
   "metadata": {},
   "outputs": [],
   "source": [
    "def ordena_fotos(fotos):\n",
    "    ordena_fotos = []\n",
    "    ordena_targ = []\n",
    "    for i in range(41):\n",
    "        n = i + 1\n",
    "        for x in fotos:\n",
    "            if int(x.split('_')[1].replace('.jpg','')) == n:\n",
    "                ordena_fotos.append(x)\n",
    "                ordena_targ.append(n)\n",
    "    return ordena_fotos, ordena_targ"
   ]
  },
  {
   "cell_type": "code",
   "execution_count": 5,
   "metadata": {},
   "outputs": [],
   "source": [
    "def imagens_zip(local):\n",
    "    imagens = []\n",
    "    fotos = os.listdir(local)\n",
    "    fotos, target = ordena_fotos(fotos)\n",
    "    for arquivo in fotos:\n",
    "        formata_imagem = cv2.imread(os.path.join(local,arquivo))\n",
    "        formata_imagem = cv2.cvtColor(formata_imagem, cv2.COLOR_BGR2GRAY)\n",
    "        formata_imagem = cv2.resize(formata_imagem, (100, 100), interpolation = cv2.INTER_AREA)\n",
    "        if formata_imagem is not None:\n",
    "            imagens.append(formata_imagem)\n",
    "    return imagens, target"
   ]
  },
  {
   "cell_type": "markdown",
   "metadata": {},
   "source": [
    "# Importação"
   ]
  },
  {
   "cell_type": "code",
   "execution_count": 6,
   "metadata": {},
   "outputs": [],
   "source": [
    "local = 'ORL'\n",
    "x, y = imagens_zip(local)"
   ]
  },
  {
   "cell_type": "markdown",
   "metadata": {},
   "source": [
    "# Macros de amostragens e treinamentos"
   ]
  },
  {
   "cell_type": "code",
   "execution_count": 7,
   "metadata": {},
   "outputs": [],
   "source": [
    "dev_x = list() # development\n",
    "val_x = list() # validation\n",
    "dev_y = list() # development\n",
    "val_y = list() # validation\n",
    "for i in range(0, len(x), 10): \n",
    "    x_teste = x[i:i+10]\n",
    "    y_teste = y[i:i+10]\n",
    "    dev_xteste, val_xteste, dev_yteste, val_yteste = train_test_split(x_teste, y_teste, test_size=0.3, random_state=123)\n",
    "    dev_x.extend(dev_xteste) # development\n",
    "    val_x.extend(val_xteste) # validation\n",
    "    dev_y.extend(dev_yteste) # development\n",
    "    val_y.extend(val_yteste) # validation"
   ]
  },
  {
   "cell_type": "code",
   "execution_count": 8,
   "metadata": {},
   "outputs": [],
   "source": [
    "def model_eigenfaces(ncp, dev_faces, dev_labels, val_faces, val_labels):\n",
    "    model = cv2.face.EigenFaceRecognizer_create(ncp)\n",
    "    model.train(dev_faces, np.array(dev_labels))    \n",
    "    pred = list()\n",
    "    for i, image in enumerate(val_faces):\n",
    "        label, confidence = model.predict(image)\n",
    "        pred.append(label)\n",
    "    \n",
    "    acuracia = accuracy_score(pred, val_labels)\n",
    "    return ncp, round(acuracia*100,2)"
   ]
  },
  {
   "cell_type": "markdown",
   "metadata": {},
   "source": [
    "# Modelagem"
   ]
  },
  {
   "cell_type": "code",
   "execution_count": 9,
   "metadata": {},
   "outputs": [],
   "source": [
    "cp = list()\n",
    "ac = list()\n",
    "for pca in range(1,21):\n",
    "    pred, acc = model_eigenfaces(pca, dev_x, dev_y, val_x, val_y)\n",
    "    cp.append(pred)\n",
    "    ac.append(acc)"
   ]
  },
  {
   "cell_type": "markdown",
   "metadata": {},
   "source": [
    "# Resultados"
   ]
  },
  {
   "cell_type": "code",
   "execution_count": 10,
   "metadata": {},
   "outputs": [
    {
     "name": "stdout",
     "output_type": "stream",
     "text": [
      " 1 componentes principais, acurácia: 16.26%\n",
      " 2 componentes principais, acurácia: 43.9%\n",
      " 3 componentes principais, acurácia: 61.79%\n",
      " 4 componentes principais, acurácia: 82.93%\n",
      " 5 componentes principais, acurácia: 84.55%\n",
      " 6 componentes principais, acurácia: 89.43%\n",
      " 7 componentes principais, acurácia: 91.87%\n",
      " 8 componentes principais, acurácia: 92.68%\n",
      " 9 componentes principais, acurácia: 93.5%\n",
      " 10 componentes principais, acurácia: 95.12%\n",
      " 11 componentes principais, acurácia: 95.93%\n",
      " 12 componentes principais, acurácia: 95.93%\n",
      " 13 componentes principais, acurácia: 95.12%\n",
      " 14 componentes principais, acurácia: 95.93%\n",
      " 15 componentes principais, acurácia: 95.12%\n",
      " 16 componentes principais, acurácia: 95.12%\n",
      " 17 componentes principais, acurácia: 95.12%\n",
      " 18 componentes principais, acurácia: 95.93%\n",
      " 19 componentes principais, acurácia: 95.12%\n",
      " 20 componentes principais, acurácia: 95.12%\n"
     ]
    }
   ],
   "source": [
    "for i in range(len(cp)):\n",
    "    print(' {} componentes principais, acurácia: {}%'.format(cp[i], ac[i]))"
   ]
  }
 ],
 "metadata": {
  "kernelspec": {
   "display_name": "Python 3",
   "language": "python",
   "name": "python3"
  },
  "language_info": {
   "codemirror_mode": {
    "name": "ipython",
    "version": 3
   },
   "file_extension": ".py",
   "mimetype": "text/x-python",
   "name": "python",
   "nbconvert_exporter": "python",
   "pygments_lexer": "ipython3",
   "version": "3.8.3"
  }
 },
 "nbformat": 4,
 "nbformat_minor": 4
}
